{
  "cells": [
    {
      "cell_type": "code",
      "execution_count": null,
      "metadata": {},
      "outputs": [],
      "source": [
        "# Import from GitHub in Colab\n",
        "import os\n",
        "\n",
        "if os.getenv(\"COLAB_RELEASE_TAG\"):\n",
        "   print(\"Running in Colab\")\n",
        "   !npx degit xldrkp/Data-Science-Notebooks -f"
      ]
    },
    {
      "cell_type": "code",
      "execution_count": null,
      "metadata": {
        "id": "T9u9JdqFe1ZJ"
      },
      "outputs": [],
      "source": [
        "%pip install autodistill autodistill-grounded-sam autodistill-yolov8 roboflow scikit-learn autodistill-grounding-dino ultralytics"
      ]
    },
    {
      "cell_type": "code",
      "execution_count": null,
      "metadata": {
        "id": "iUTuL-9fftWg"
      },
      "outputs": [],
      "source": [
        "from autodistill_grounded_sam import GroundedSAM\n",
        "from autodistill_grounding_dino import GroundingDINO\n",
        "from autodistill.detection import CaptionOntology\n",
        "from autodistill_yolov8 import YOLOv8\n",
        "\n",
        "base_model = GroundingDINO(ontology=CaptionOntology(\n",
        "    {\n",
        "        \"clothes pin\": \"OK\",\n",
        "        \"broken clothes pin with torsion spiral\": \"NOK_spiral\",\n",
        "        \"broken clothes pin without torsion spiral\": \"NOK_nospiral\"\n",
        "    }\n",
        "))\n",
        "\n",
        "results = base_model.predict(\"./test/resized_DSC02691.JPG\")"
      ]
    },
    {
      "cell_type": "code",
      "execution_count": null,
      "metadata": {
        "id": "PFqXfvzdhonF"
      },
      "outputs": [],
      "source": [
        "base_model.label(\n",
        "    input_folder=\"./images\",\n",
        "    extension=\".jpg\",\n",
        "    output_folder=\"./labeled-images\"\n",
        ")"
      ]
    },
    {
      "cell_type": "code",
      "execution_count": null,
      "metadata": {
        "id": "nTfGJxiDQYWc"
      },
      "outputs": [],
      "source": [
        "import os\n",
        "os.environ['WANDB_DISABLED'] = 'true'\n",
        "\n",
        "target_model = YOLOv8(\"yolov8n.pt\")\n",
        "target_model.train(\"./labeled-images/data.yaml\", epochs=200)"
      ]
    }
  ],
  "metadata": {
    "accelerator": "GPU",
    "colab": {
      "gpuType": "T4",
      "provenance": []
    },
    "kernelspec": {
      "display_name": "Python 3",
      "name": "python3"
    },
    "language_info": {
      "name": "python"
    }
  },
  "nbformat": 4,
  "nbformat_minor": 0
}
